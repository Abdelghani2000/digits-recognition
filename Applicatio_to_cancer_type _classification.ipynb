{
  "nbformat": 4,
  "nbformat_minor": 0,
  "metadata": {
    "colab": {
      "provenance": []
    },
    "kernelspec": {
      "name": "python3",
      "display_name": "Python 3"
    },
    "language_info": {
      "name": "python"
    }
  },
  "cells": [
    {
      "cell_type": "code",
      "source": [
        "pip install  qiskit"
      ],
      "metadata": {
        "colab": {
          "base_uri": "https://localhost:8080/"
        },
        "id": "nAc5Rp1Bu8hJ",
        "outputId": "4a06d189-a787-40e3-8172-0744f3b6ecb8"
      },
      "execution_count": null,
      "outputs": [
        {
          "output_type": "stream",
          "name": "stdout",
          "text": [
            "Looking in indexes: https://pypi.org/simple, https://us-python.pkg.dev/colab-wheels/public/simple/\n",
            "Collecting qiskit\n",
            "  Downloading qiskit-0.39.5.tar.gz (14 kB)\n",
            "  Preparing metadata (setup.py) ... \u001b[?25l\u001b[?25hdone\n",
            "Collecting qiskit-terra==0.22.4\n",
            "  Downloading qiskit_terra-0.22.4-cp38-cp38-manylinux_2_17_x86_64.manylinux2014_x86_64.whl (4.8 MB)\n",
            "\u001b[2K     \u001b[90m━━━━━━━━━━━━━━━━━━━━━━━━━━━━━━━━━━━━━━━━\u001b[0m \u001b[32m4.8/4.8 MB\u001b[0m \u001b[31m42.0 MB/s\u001b[0m eta \u001b[36m0:00:00\u001b[0m\n",
            "\u001b[?25hCollecting qiskit-aer==0.11.2\n",
            "  Downloading qiskit_aer-0.11.2-cp38-cp38-manylinux_2_17_x86_64.manylinux2014_x86_64.whl (12.8 MB)\n",
            "\u001b[2K     \u001b[90m━━━━━━━━━━━━━━━━━━━━━━━━━━━━━━━━━━━━━━━━\u001b[0m \u001b[32m12.8/12.8 MB\u001b[0m \u001b[31m45.2 MB/s\u001b[0m eta \u001b[36m0:00:00\u001b[0m\n",
            "\u001b[?25hCollecting qiskit-ibmq-provider==0.19.2\n",
            "  Downloading qiskit_ibmq_provider-0.19.2-py3-none-any.whl (240 kB)\n",
            "\u001b[2K     \u001b[90m━━━━━━━━━━━━━━━━━━━━━━━━━━━━━━━━━━━━━━\u001b[0m \u001b[32m240.4/240.4 KB\u001b[0m \u001b[31m19.7 MB/s\u001b[0m eta \u001b[36m0:00:00\u001b[0m\n",
            "\u001b[?25hRequirement already satisfied: numpy>=1.16.3 in /usr/local/lib/python3.8/dist-packages (from qiskit-aer==0.11.2->qiskit) (1.21.6)\n",
            "Requirement already satisfied: scipy>=1.0 in /usr/local/lib/python3.8/dist-packages (from qiskit-aer==0.11.2->qiskit) (1.7.3)\n",
            "Requirement already satisfied: python-dateutil>=2.8.0 in /usr/local/lib/python3.8/dist-packages (from qiskit-ibmq-provider==0.19.2->qiskit) (2.8.2)\n",
            "Requirement already satisfied: requests>=2.19 in /usr/local/lib/python3.8/dist-packages (from qiskit-ibmq-provider==0.19.2->qiskit) (2.25.1)\n",
            "Collecting websocket-client>=1.0.1\n",
            "  Downloading websocket_client-1.4.2-py3-none-any.whl (55 kB)\n",
            "\u001b[2K     \u001b[90m━━━━━━━━━━━━━━━━━━━━━━━━━━━━━━━━━━━━━━━━\u001b[0m \u001b[32m55.3/55.3 KB\u001b[0m \u001b[31m3.3 MB/s\u001b[0m eta \u001b[36m0:00:00\u001b[0m\n",
            "\u001b[?25hRequirement already satisfied: urllib3>=1.21.1 in /usr/local/lib/python3.8/dist-packages (from qiskit-ibmq-provider==0.19.2->qiskit) (1.24.3)\n",
            "Collecting requests-ntlm>=1.1.0\n",
            "  Downloading requests_ntlm-1.1.0-py2.py3-none-any.whl (5.7 kB)\n",
            "Collecting websockets>=10.0\n",
            "  Downloading websockets-10.4-cp38-cp38-manylinux_2_5_x86_64.manylinux1_x86_64.manylinux_2_17_x86_64.manylinux2014_x86_64.whl (106 kB)\n",
            "\u001b[2K     \u001b[90m━━━━━━━━━━━━━━━━━━━━━━━━━━━━━━━━━━━━━━━\u001b[0m \u001b[32m107.0/107.0 KB\u001b[0m \u001b[31m3.1 MB/s\u001b[0m eta \u001b[36m0:00:00\u001b[0m\n",
            "\u001b[?25hCollecting stevedore>=3.0.0\n",
            "  Downloading stevedore-4.1.1-py3-none-any.whl (50 kB)\n",
            "\u001b[2K     \u001b[90m━━━━━━━━━━━━━━━━━━━━━━━━━━━━━━━━━━━━━━━━\u001b[0m \u001b[32m50.0/50.0 KB\u001b[0m \u001b[31m3.9 MB/s\u001b[0m eta \u001b[36m0:00:00\u001b[0m\n",
            "\u001b[?25hCollecting tweedledum<2.0,>=1.1\n",
            "  Downloading tweedledum-1.1.1-cp38-cp38-manylinux_2_12_x86_64.manylinux2010_x86_64.whl (929 kB)\n",
            "\u001b[2K     \u001b[90m━━━━━━━━━━━━━━━━━━━━━━━━━━━━━━━━━━━━━━\u001b[0m \u001b[32m929.9/929.9 KB\u001b[0m \u001b[31m21.9 MB/s\u001b[0m eta \u001b[36m0:00:00\u001b[0m\n",
            "\u001b[?25hCollecting retworkx>=0.11.0\n",
            "  Downloading retworkx-0.12.1-py3-none-any.whl (10 kB)\n",
            "Requirement already satisfied: psutil>=5 in /usr/local/lib/python3.8/dist-packages (from qiskit-terra==0.22.4->qiskit) (5.4.8)\n",
            "Requirement already satisfied: dill>=0.3 in /usr/local/lib/python3.8/dist-packages (from qiskit-terra==0.22.4->qiskit) (0.3.6)\n",
            "Collecting symengine>=0.9\n",
            "  Downloading symengine-0.9.2-cp38-cp38-manylinux2010_x86_64.whl (37.5 MB)\n",
            "\u001b[2K     \u001b[90m━━━━━━━━━━━━━━━━━━━━━━━━━━━━━━━━━━━━━━━━\u001b[0m \u001b[32m37.5/37.5 MB\u001b[0m \u001b[31m15.3 MB/s\u001b[0m eta \u001b[36m0:00:00\u001b[0m\n",
            "\u001b[?25hRequirement already satisfied: sympy>=1.3 in /usr/local/lib/python3.8/dist-packages (from qiskit-terra==0.22.4->qiskit) (1.7.1)\n",
            "Collecting ply>=3.10\n",
            "  Downloading ply-3.11-py2.py3-none-any.whl (49 kB)\n",
            "\u001b[2K     \u001b[90m━━━━━━━━━━━━━━━━━━━━━━━━━━━━━━━━━━━━━━━━\u001b[0m \u001b[32m49.6/49.6 KB\u001b[0m \u001b[31m3.0 MB/s\u001b[0m eta \u001b[36m0:00:00\u001b[0m\n",
            "\u001b[?25hRequirement already satisfied: six>=1.5 in /usr/local/lib/python3.8/dist-packages (from python-dateutil>=2.8.0->qiskit-ibmq-provider==0.19.2->qiskit) (1.15.0)\n",
            "Requirement already satisfied: certifi>=2017.4.17 in /usr/local/lib/python3.8/dist-packages (from requests>=2.19->qiskit-ibmq-provider==0.19.2->qiskit) (2022.12.7)\n",
            "Requirement already satisfied: idna<3,>=2.5 in /usr/local/lib/python3.8/dist-packages (from requests>=2.19->qiskit-ibmq-provider==0.19.2->qiskit) (2.10)\n",
            "Requirement already satisfied: chardet<5,>=3.0.2 in /usr/local/lib/python3.8/dist-packages (from requests>=2.19->qiskit-ibmq-provider==0.19.2->qiskit) (4.0.0)\n",
            "Collecting cryptography>=1.3\n",
            "  Downloading cryptography-39.0.0-cp36-abi3-manylinux_2_28_x86_64.whl (4.2 MB)\n",
            "\u001b[2K     \u001b[90m━━━━━━━━━━━━━━━━━━━━━━━━━━━━━━━━━━━━━━━━\u001b[0m \u001b[32m4.2/4.2 MB\u001b[0m \u001b[31m16.3 MB/s\u001b[0m eta \u001b[36m0:00:00\u001b[0m\n",
            "\u001b[?25hCollecting ntlm-auth>=1.0.2\n",
            "  Downloading ntlm_auth-1.5.0-py2.py3-none-any.whl (29 kB)\n",
            "Collecting rustworkx==0.12.1\n",
            "  Downloading rustworkx-0.12.1-cp38-cp38-manylinux_2_17_x86_64.manylinux2014_x86_64.whl (1.9 MB)\n",
            "\u001b[2K     \u001b[90m━━━━━━━━━━━━━━━━━━━━━━━━━━━━━━━━━━━━━━━━\u001b[0m \u001b[32m1.9/1.9 MB\u001b[0m \u001b[31m18.0 MB/s\u001b[0m eta \u001b[36m0:00:00\u001b[0m\n",
            "\u001b[?25hCollecting pbr!=2.1.0,>=2.0.0\n",
            "  Downloading pbr-5.11.1-py2.py3-none-any.whl (112 kB)\n",
            "\u001b[2K     \u001b[90m━━━━━━━━━━━━━━━━━━━━━━━━━━━━━━━━━━━━━━━\u001b[0m \u001b[32m112.7/112.7 KB\u001b[0m \u001b[31m6.8 MB/s\u001b[0m eta \u001b[36m0:00:00\u001b[0m\n",
            "\u001b[?25hRequirement already satisfied: mpmath>=0.19 in /usr/local/lib/python3.8/dist-packages (from sympy>=1.3->qiskit-terra==0.22.4->qiskit) (1.2.1)\n",
            "Requirement already satisfied: cffi>=1.12 in /usr/local/lib/python3.8/dist-packages (from cryptography>=1.3->requests-ntlm>=1.1.0->qiskit-ibmq-provider==0.19.2->qiskit) (1.15.1)\n",
            "Requirement already satisfied: pycparser in /usr/local/lib/python3.8/dist-packages (from cffi>=1.12->cryptography>=1.3->requests-ntlm>=1.1.0->qiskit-ibmq-provider==0.19.2->qiskit) (2.21)\n",
            "Building wheels for collected packages: qiskit\n",
            "  Building wheel for qiskit (setup.py) ... \u001b[?25l\u001b[?25hdone\n",
            "  Created wheel for qiskit: filename=qiskit-0.39.5-py3-none-any.whl size=12819 sha256=96b49829bdfa47b5edaac49738a14d55d1e4e07096b3c758aca195d0b7df3844\n",
            "  Stored in directory: /root/.cache/pip/wheels/3a/51/61/70d5c6bdd5b91e78cfb59cf28ab759fac314d1c990dc93ff36\n",
            "Successfully built qiskit\n",
            "Installing collected packages: ply, websockets, websocket-client, tweedledum, symengine, rustworkx, pbr, ntlm-auth, stevedore, retworkx, cryptography, requests-ntlm, qiskit-terra, qiskit-ibmq-provider, qiskit-aer, qiskit\n",
            "Successfully installed cryptography-39.0.0 ntlm-auth-1.5.0 pbr-5.11.1 ply-3.11 qiskit-0.39.5 qiskit-aer-0.11.2 qiskit-ibmq-provider-0.19.2 qiskit-terra-0.22.4 requests-ntlm-1.1.0 retworkx-0.12.1 rustworkx-0.12.1 stevedore-4.1.1 symengine-0.9.2 tweedledum-1.1.1 websocket-client-1.4.2 websockets-10.4\n"
          ]
        }
      ]
    },
    {
      "cell_type": "code",
      "source": [
        "pip install qiskit[machine-learning]"
      ],
      "metadata": {
        "colab": {
          "base_uri": "https://localhost:8080/"
        },
        "id": "LQ378Ne_vON4",
        "outputId": "fca0ede7-8c8a-4672-e9f5-702f0875b328"
      },
      "execution_count": null,
      "outputs": [
        {
          "output_type": "stream",
          "name": "stdout",
          "text": [
            "Looking in indexes: https://pypi.org/simple, https://us-python.pkg.dev/colab-wheels/public/simple/\n",
            "Requirement already satisfied: qiskit[machine-learning] in /usr/local/lib/python3.8/dist-packages (0.39.5)\n",
            "Requirement already satisfied: qiskit-aer==0.11.2 in /usr/local/lib/python3.8/dist-packages (from qiskit[machine-learning]) (0.11.2)\n",
            "Requirement already satisfied: qiskit-ibmq-provider==0.19.2 in /usr/local/lib/python3.8/dist-packages (from qiskit[machine-learning]) (0.19.2)\n",
            "Requirement already satisfied: qiskit-terra==0.22.4 in /usr/local/lib/python3.8/dist-packages (from qiskit[machine-learning]) (0.22.4)\n",
            "Collecting qiskit-machine-learning>=0.4.0\n",
            "  Downloading qiskit_machine_learning-0.5.0-py3-none-any.whl (152 kB)\n",
            "\u001b[2K     \u001b[90m━━━━━━━━━━━━━━━━━━━━━━━━━━━━━━━━━━━━━━━\u001b[0m \u001b[32m152.8/152.8 KB\u001b[0m \u001b[31m8.5 MB/s\u001b[0m eta \u001b[36m0:00:00\u001b[0m\n",
            "\u001b[?25hRequirement already satisfied: scipy>=1.0 in /usr/local/lib/python3.8/dist-packages (from qiskit-aer==0.11.2->qiskit[machine-learning]) (1.7.3)\n",
            "Requirement already satisfied: numpy>=1.16.3 in /usr/local/lib/python3.8/dist-packages (from qiskit-aer==0.11.2->qiskit[machine-learning]) (1.21.6)\n",
            "Requirement already satisfied: python-dateutil>=2.8.0 in /usr/local/lib/python3.8/dist-packages (from qiskit-ibmq-provider==0.19.2->qiskit[machine-learning]) (2.8.2)\n",
            "Requirement already satisfied: requests-ntlm>=1.1.0 in /usr/local/lib/python3.8/dist-packages (from qiskit-ibmq-provider==0.19.2->qiskit[machine-learning]) (1.1.0)\n",
            "Requirement already satisfied: websocket-client>=1.0.1 in /usr/local/lib/python3.8/dist-packages (from qiskit-ibmq-provider==0.19.2->qiskit[machine-learning]) (1.4.2)\n",
            "Requirement already satisfied: websockets>=10.0 in /usr/local/lib/python3.8/dist-packages (from qiskit-ibmq-provider==0.19.2->qiskit[machine-learning]) (10.4)\n",
            "Requirement already satisfied: urllib3>=1.21.1 in /usr/local/lib/python3.8/dist-packages (from qiskit-ibmq-provider==0.19.2->qiskit[machine-learning]) (1.24.3)\n",
            "Requirement already satisfied: requests>=2.19 in /usr/local/lib/python3.8/dist-packages (from qiskit-ibmq-provider==0.19.2->qiskit[machine-learning]) (2.25.1)\n",
            "Requirement already satisfied: psutil>=5 in /usr/local/lib/python3.8/dist-packages (from qiskit-terra==0.22.4->qiskit[machine-learning]) (5.4.8)\n",
            "Requirement already satisfied: tweedledum<2.0,>=1.1 in /usr/local/lib/python3.8/dist-packages (from qiskit-terra==0.22.4->qiskit[machine-learning]) (1.1.1)\n",
            "Requirement already satisfied: stevedore>=3.0.0 in /usr/local/lib/python3.8/dist-packages (from qiskit-terra==0.22.4->qiskit[machine-learning]) (4.1.1)\n",
            "Requirement already satisfied: ply>=3.10 in /usr/local/lib/python3.8/dist-packages (from qiskit-terra==0.22.4->qiskit[machine-learning]) (3.11)\n",
            "Requirement already satisfied: symengine>=0.9 in /usr/local/lib/python3.8/dist-packages (from qiskit-terra==0.22.4->qiskit[machine-learning]) (0.9.2)\n",
            "Requirement already satisfied: retworkx>=0.11.0 in /usr/local/lib/python3.8/dist-packages (from qiskit-terra==0.22.4->qiskit[machine-learning]) (0.12.1)\n",
            "Requirement already satisfied: sympy>=1.3 in /usr/local/lib/python3.8/dist-packages (from qiskit-terra==0.22.4->qiskit[machine-learning]) (1.7.1)\n",
            "Requirement already satisfied: dill>=0.3 in /usr/local/lib/python3.8/dist-packages (from qiskit-terra==0.22.4->qiskit[machine-learning]) (0.3.6)\n",
            "Requirement already satisfied: fastdtw in /usr/local/lib/python3.8/dist-packages (from qiskit-machine-learning>=0.4.0->qiskit[machine-learning]) (0.3.4)\n",
            "Collecting dill>=0.3\n",
            "  Downloading dill-0.3.5.1-py2.py3-none-any.whl (95 kB)\n",
            "\u001b[2K     \u001b[90m━━━━━━━━━━━━━━━━━━━━━━━━━━━━━━━━━━━━━━━━\u001b[0m \u001b[32m95.8/95.8 KB\u001b[0m \u001b[31m7.2 MB/s\u001b[0m eta \u001b[36m0:00:00\u001b[0m\n",
            "\u001b[?25hRequirement already satisfied: scikit-learn>=0.20.0 in /usr/local/lib/python3.8/dist-packages (from qiskit-machine-learning>=0.4.0->qiskit[machine-learning]) (1.0.2)\n",
            "Requirement already satisfied: setuptools>=40.1.0 in /usr/local/lib/python3.8/dist-packages (from qiskit-machine-learning>=0.4.0->qiskit[machine-learning]) (57.4.0)\n",
            "Requirement already satisfied: six>=1.5 in /usr/local/lib/python3.8/dist-packages (from python-dateutil>=2.8.0->qiskit-ibmq-provider==0.19.2->qiskit[machine-learning]) (1.15.0)\n",
            "Requirement already satisfied: certifi>=2017.4.17 in /usr/local/lib/python3.8/dist-packages (from requests>=2.19->qiskit-ibmq-provider==0.19.2->qiskit[machine-learning]) (2022.12.7)\n",
            "Requirement already satisfied: idna<3,>=2.5 in /usr/local/lib/python3.8/dist-packages (from requests>=2.19->qiskit-ibmq-provider==0.19.2->qiskit[machine-learning]) (2.10)\n",
            "Requirement already satisfied: chardet<5,>=3.0.2 in /usr/local/lib/python3.8/dist-packages (from requests>=2.19->qiskit-ibmq-provider==0.19.2->qiskit[machine-learning]) (4.0.0)\n",
            "Requirement already satisfied: cryptography>=1.3 in /usr/local/lib/python3.8/dist-packages (from requests-ntlm>=1.1.0->qiskit-ibmq-provider==0.19.2->qiskit[machine-learning]) (39.0.0)\n",
            "Requirement already satisfied: ntlm-auth>=1.0.2 in /usr/local/lib/python3.8/dist-packages (from requests-ntlm>=1.1.0->qiskit-ibmq-provider==0.19.2->qiskit[machine-learning]) (1.5.0)\n",
            "Requirement already satisfied: rustworkx==0.12.1 in /usr/local/lib/python3.8/dist-packages (from retworkx>=0.11.0->qiskit-terra==0.22.4->qiskit[machine-learning]) (0.12.1)\n",
            "Requirement already satisfied: threadpoolctl>=2.0.0 in /usr/local/lib/python3.8/dist-packages (from scikit-learn>=0.20.0->qiskit-machine-learning>=0.4.0->qiskit[machine-learning]) (3.1.0)\n",
            "Requirement already satisfied: joblib>=0.11 in /usr/local/lib/python3.8/dist-packages (from scikit-learn>=0.20.0->qiskit-machine-learning>=0.4.0->qiskit[machine-learning]) (1.2.0)\n",
            "Requirement already satisfied: pbr!=2.1.0,>=2.0.0 in /usr/local/lib/python3.8/dist-packages (from stevedore>=3.0.0->qiskit-terra==0.22.4->qiskit[machine-learning]) (5.11.1)\n",
            "Requirement already satisfied: mpmath>=0.19 in /usr/local/lib/python3.8/dist-packages (from sympy>=1.3->qiskit-terra==0.22.4->qiskit[machine-learning]) (1.2.1)\n",
            "Requirement already satisfied: cffi>=1.12 in /usr/local/lib/python3.8/dist-packages (from cryptography>=1.3->requests-ntlm>=1.1.0->qiskit-ibmq-provider==0.19.2->qiskit[machine-learning]) (1.15.1)\n",
            "Requirement already satisfied: pycparser in /usr/local/lib/python3.8/dist-packages (from cffi>=1.12->cryptography>=1.3->requests-ntlm>=1.1.0->qiskit-ibmq-provider==0.19.2->qiskit[machine-learning]) (2.21)\n",
            "Installing collected packages: dill, qiskit-machine-learning\n",
            "  Attempting uninstall: dill\n",
            "    Found existing installation: dill 0.3.6\n",
            "    Uninstalling dill-0.3.6:\n",
            "      Successfully uninstalled dill-0.3.6\n",
            "Successfully installed dill-0.3.5.1 qiskit-machine-learning-0.5.0\n"
          ]
        }
      ]
    },
    {
      "cell_type": "markdown",
      "source": [
        "##FIRST IMPLEMENTATION WITH **Pegasos Quantum Support Vector Classifier**"
      ],
      "metadata": {
        "id": "gmAzwZkY_Zu0"
      }
    },
    {
      "cell_type": "code",
      "execution_count": null,
      "metadata": {
        "id": "x2JIhGhou0nS",
        "colab": {
          "base_uri": "https://localhost:8080/"
        },
        "outputId": "ff4129f9-2f0f-4e52-a73b-51e1d8f719e7"
      },
      "outputs": [
        {
          "output_type": "stream",
          "name": "stdout",
          "text": [
            "dict_keys(['data', 'target', 'frame', 'target_names', 'DESCR', 'feature_names', 'filename', 'data_module'])\n"
          ]
        }
      ],
      "source": [
        "##data importation\n",
        "#pacages importes\n",
        "\n",
        "from sklearn.preprocessing import StandardScaler, MinMaxScaler\n",
        "from sklearn.datasets import load_breast_cancer\n",
        "# my data keys\n",
        "\n",
        "cancer = load_breast_cancer()\n",
        "print(cancer.keys())"
      ]
    },
    {
      "cell_type": "code",
      "source": [
        "#discription of my data\n",
        "print(cancer['DESCR'])"
      ],
      "metadata": {
        "colab": {
          "base_uri": "https://localhost:8080/"
        },
        "id": "PAVRTR6R7rcs",
        "outputId": "32464e29-8578-4baf-e098-ee97eff9d86c"
      },
      "execution_count": null,
      "outputs": [
        {
          "output_type": "stream",
          "name": "stdout",
          "text": [
            ".. _breast_cancer_dataset:\n",
            "\n",
            "Breast cancer wisconsin (diagnostic) dataset\n",
            "--------------------------------------------\n",
            "\n",
            "**Data Set Characteristics:**\n",
            "\n",
            "    :Number of Instances: 569\n",
            "\n",
            "    :Number of Attributes: 30 numeric, predictive attributes and the class\n",
            "\n",
            "    :Attribute Information:\n",
            "        - radius (mean of distances from center to points on the perimeter)\n",
            "        - texture (standard deviation of gray-scale values)\n",
            "        - perimeter\n",
            "        - area\n",
            "        - smoothness (local variation in radius lengths)\n",
            "        - compactness (perimeter^2 / area - 1.0)\n",
            "        - concavity (severity of concave portions of the contour)\n",
            "        - concave points (number of concave portions of the contour)\n",
            "        - symmetry\n",
            "        - fractal dimension (\"coastline approximation\" - 1)\n",
            "\n",
            "        The mean, standard error, and \"worst\" or largest (mean of the three\n",
            "        worst/largest values) of these features were computed for each image,\n",
            "        resulting in 30 features.  For instance, field 0 is Mean Radius, field\n",
            "        10 is Radius SE, field 20 is Worst Radius.\n",
            "\n",
            "        - class:\n",
            "                - WDBC-Malignant\n",
            "                - WDBC-Benign\n",
            "\n",
            "    :Summary Statistics:\n",
            "\n",
            "    ===================================== ====== ======\n",
            "                                           Min    Max\n",
            "    ===================================== ====== ======\n",
            "    radius (mean):                        6.981  28.11\n",
            "    texture (mean):                       9.71   39.28\n",
            "    perimeter (mean):                     43.79  188.5\n",
            "    area (mean):                          143.5  2501.0\n",
            "    smoothness (mean):                    0.053  0.163\n",
            "    compactness (mean):                   0.019  0.345\n",
            "    concavity (mean):                     0.0    0.427\n",
            "    concave points (mean):                0.0    0.201\n",
            "    symmetry (mean):                      0.106  0.304\n",
            "    fractal dimension (mean):             0.05   0.097\n",
            "    radius (standard error):              0.112  2.873\n",
            "    texture (standard error):             0.36   4.885\n",
            "    perimeter (standard error):           0.757  21.98\n",
            "    area (standard error):                6.802  542.2\n",
            "    smoothness (standard error):          0.002  0.031\n",
            "    compactness (standard error):         0.002  0.135\n",
            "    concavity (standard error):           0.0    0.396\n",
            "    concave points (standard error):      0.0    0.053\n",
            "    symmetry (standard error):            0.008  0.079\n",
            "    fractal dimension (standard error):   0.001  0.03\n",
            "    radius (worst):                       7.93   36.04\n",
            "    texture (worst):                      12.02  49.54\n",
            "    perimeter (worst):                    50.41  251.2\n",
            "    area (worst):                         185.2  4254.0\n",
            "    smoothness (worst):                   0.071  0.223\n",
            "    compactness (worst):                  0.027  1.058\n",
            "    concavity (worst):                    0.0    1.252\n",
            "    concave points (worst):               0.0    0.291\n",
            "    symmetry (worst):                     0.156  0.664\n",
            "    fractal dimension (worst):            0.055  0.208\n",
            "    ===================================== ====== ======\n",
            "\n",
            "    :Missing Attribute Values: None\n",
            "\n",
            "    :Class Distribution: 212 - Malignant, 357 - Benign\n",
            "\n",
            "    :Creator:  Dr. William H. Wolberg, W. Nick Street, Olvi L. Mangasarian\n",
            "\n",
            "    :Donor: Nick Street\n",
            "\n",
            "    :Date: November, 1995\n",
            "\n",
            "This is a copy of UCI ML Breast Cancer Wisconsin (Diagnostic) datasets.\n",
            "https://goo.gl/U2Uwz2\n",
            "\n",
            "Features are computed from a digitized image of a fine needle\n",
            "aspirate (FNA) of a breast mass.  They describe\n",
            "characteristics of the cell nuclei present in the image.\n",
            "\n",
            "Separating plane described above was obtained using\n",
            "Multisurface Method-Tree (MSM-T) [K. P. Bennett, \"Decision Tree\n",
            "Construction Via Linear Programming.\" Proceedings of the 4th\n",
            "Midwest Artificial Intelligence and Cognitive Science Society,\n",
            "pp. 97-101, 1992], a classification method which uses linear\n",
            "programming to construct a decision tree.  Relevant features\n",
            "were selected using an exhaustive search in the space of 1-4\n",
            "features and 1-3 separating planes.\n",
            "\n",
            "The actual linear program used to obtain the separating plane\n",
            "in the 3-dimensional space is that described in:\n",
            "[K. P. Bennett and O. L. Mangasarian: \"Robust Linear\n",
            "Programming Discrimination of Two Linearly Inseparable Sets\",\n",
            "Optimization Methods and Software 1, 1992, 23-34].\n",
            "\n",
            "This database is also available through the UW CS ftp server:\n",
            "\n",
            "ftp ftp.cs.wisc.edu\n",
            "cd math-prog/cpo-dataset/machine-learn/WDBC/\n",
            "\n",
            ".. topic:: References\n",
            "\n",
            "   - W.N. Street, W.H. Wolberg and O.L. Mangasarian. Nuclear feature extraction \n",
            "     for breast tumor diagnosis. IS&T/SPIE 1993 International Symposium on \n",
            "     Electronic Imaging: Science and Technology, volume 1905, pages 861-870,\n",
            "     San Jose, CA, 1993.\n",
            "   - O.L. Mangasarian, W.N. Street and W.H. Wolberg. Breast cancer diagnosis and \n",
            "     prognosis via linear programming. Operations Research, 43(4), pages 570-577, \n",
            "     July-August 1995.\n",
            "   - W.H. Wolberg, W.N. Street, and O.L. Mangasarian. Machine learning techniques\n",
            "     to diagnose breast cancer from fine-needle aspirates. Cancer Letters 77 (1994) \n",
            "     163-171.\n"
          ]
        }
      ]
    },
    {
      "cell_type": "code",
      "source": [
        "from sklearn.model_selection import train_test_split\n",
        "from sklearn.preprocessing import MinMaxScaler\n",
        "import numpy as np\n",
        "import scipy\n",
        "from scipy.linalg import expm\n",
        "import matplotlib.pyplot as plt\n",
        "from mpl_toolkits.mplot3d import Axes3D\n",
        "from sklearn import datasets\n",
        "from sklearn.model_selection import train_test_split\n",
        "from sklearn.preprocessing import StandardScaler, MinMaxScaler\n",
        "from sklearn.decomposition import PCA\n",
        "import matplotlib.pyplot as plt\n",
        "\n",
        "#features = MinMaxScaler(feature_range=(0, np.pi)).fit_transform(features)\n",
        "\n",
        "\n",
        "# To find if the classifier is accurate, a common strategy is\n",
        "# to divide the dataset into a training set and a test set.\n",
        "# Here the data is divided into 75% training, 25% testing.70 30\n",
        "train_features, test_features, train_labels, test_labels  = train_test_split(cancer.data, cancer.target, test_size=0.25, random_state=109)\n",
        "\n",
        "#the mutch with this code X_train, X_test, Y_train, Y_test\n",
        "\n",
        "\n",
        "\n",
        "# Now the dataset's features will be standardized\n",
        "# to fit a normal distribution.\n",
        "scaler = StandardScaler().fit(train_features)\n",
        "train_features = scaler.transform(train_features)\n",
        "test_features = scaler.transform(test_features)\n",
        "\n",
        "\n",
        "# To be able to use this data with the given\n",
        "# number of qubits, the data must be broken down from\n",
        "# 30 dimensions to `n` dimensions.\n",
        "# This is done with Principal Component Analysis (PCA),\n",
        "# which finds patterns while keeping variation.\n",
        "\n",
        "\n",
        "\n",
        "n =2   #8 #6 #4 # 2 #test for 4 #30 8 H # number of principal components kept #the futur application we wanna aplay for more qubites and trazin the algorithem to get more performance\n",
        "\n",
        "pca = PCA(n_components = n).fit(train_features)\n",
        "#PCA FOR THE TRAIN AND TEST LABESL\n",
        "\n",
        "train_features = pca.transform(train_features)\n",
        "test_features = pca.transform(test_features)\n",
        "\n",
        "#print(train_features.shape)\n",
        "#print(train_features)\n",
        "\n",
        "\n",
        "\n",
        "# The last step in the data processing is\n",
        "# to scale the data to be between -1 and 1\n",
        "\n",
        "pii= np.pi\n",
        "samples = np.append(train_features, test_features, axis=0)\n",
        "print(samples.shape)\n",
        "\n",
        "\n",
        "minmax_scale = MinMaxScaler((-1, 1)).fit(samples)\n",
        "#minmax_scale = MinMaxScaler(-1, 1).fit(samples)\n",
        "# will be changed to 0, np.pi   ((((-1, 1    #change for 2 (delite )  #(0, 2*np.pi)\n",
        "train_features = minmax_scale.transform(train_features)\n",
        "test_features = minmax_scale.transform(test_features)\n",
        "\n",
        "\n",
        "\n",
        "# Now some sample should be picked to train the model from\n",
        "#training_input = {key: (X_train[Y_train == k, :])[:training_size] for k, key in enumerate(class_labels)}\n",
        "#test_input = {key: (X_train[Y_train == k, :])[training_size:(training_size+test_size)] for k, key in enumerate(class_labels)}\n",
        "\n",
        "#ty_label = train_features\n",
        "#print(ty_label.shape)\n",
        "#ty_label.extend(test_features)\n",
        "\n",
        "#ploting my figures to see\n",
        "\n",
        "\n",
        "ty_label = np.concatenate((train_features, test_features))\n",
        "print(ty_label.shape)\n",
        "\n",
        "plt.figure(figsize=(8,6))\n",
        "plt.scatter(ty_label[:,0],ty_label[:,1],c=cancer['target'])\n",
        "plt.xlabel('first principle componenet ')\n",
        "plt.xlabel('second principle componenet')\n",
        "\n",
        "\n",
        "\n",
        "#train_features, test_features, train_labels, test_labels = train_test_split(\n",
        " #   features, labels, train_size=15, shuffle=False)"
      ],
      "metadata": {
        "id": "nVQBIE9Lu5qm",
        "colab": {
          "base_uri": "https://localhost:8080/",
          "height": 443
        },
        "outputId": "9dcc0c4f-eb5b-4f65-f773-2bfc6622b5ad"
      },
      "execution_count": null,
      "outputs": [
        {
          "output_type": "stream",
          "name": "stdout",
          "text": [
            "(569, 2)\n",
            "(569, 2)\n"
          ]
        },
        {
          "output_type": "execute_result",
          "data": {
            "text/plain": [
              "Text(0.5, 0, 'second principle componenet')"
            ]
          },
          "metadata": {},
          "execution_count": 5
        },
        {
          "output_type": "display_data",
          "data": {
            "text/plain": [
              "<Figure size 576x432 with 1 Axes>"
            ],
            "image/png": "[encoded data removed]"
          },
          "metadata": {
            "needs_background": "light"
          }
        }
      ]
    },
    {
      "cell_type": "code",
      "source": [
        "# number of qubits is equal to the number of features\n",
        "num_qubits = 2  #8 #6 #2 #30 is was hard for my classical computer simulate 30 qubit\n",
        "#after yring with number of qubits the best number was 2\n",
        "\n",
        "# number of steps performed during the training procedure\n",
        "tau = 120 #80 #60  #100\n",
        "\n",
        "# regularization parameter\n",
        "C = 1100  #1400 #1000"
      ],
      "metadata": {
        "id": "NZIBZ295vg6Z"
      },
      "execution_count": null,
      "outputs": []
    },
    {
      "cell_type": "code",
      "source": [
        "from qiskit import BasicAer\n",
        "from qiskit.circuit.library import ZFeatureMap\n",
        "from qiskit.utils import QuantumInstance, algorithm_globals\n",
        "\n",
        "from qiskit_machine_learning.kernels import QuantumKernel\n",
        "\n",
        "algorithm_globals.random_seed = 12345\n",
        "\n",
        "pegasos_backend = QuantumInstance(\n",
        "    BasicAer.get_backend(\"statevector_simulator\"),\n",
        "    seed_simulator=algorithm_globals.random_seed,\n",
        "    seed_transpiler=algorithm_globals.random_seed,\n",
        ")\n",
        "\n",
        "feature_map = ZFeatureMap(feature_dimension=num_qubits, reps=1)\n",
        "\n",
        "qkernel = QuantumKernel(feature_map=feature_map, quantum_instance=pegasos_backend)"
      ],
      "metadata": {
        "id": "JVPH74pXvIRo"
      },
      "execution_count": null,
      "outputs": []
    },
    {
      "cell_type": "code",
      "source": [
        "from qiskit_machine_learning.algorithms import PegasosQSVC\n",
        "\n",
        "pegasos_qsvc = PegasosQSVC(quantum_kernel=qkernel, C=C, num_steps=tau)\n",
        "\n",
        "# training\n",
        "pegasos_qsvc.fit(train_features, train_labels)\n",
        "\n",
        "# testing\n",
        "pegasos_score = pegasos_qsvc.score(test_features, test_labels)\n",
        "print(f\"PegasosQSVC classification test score: {pegasos_score}\")"
      ],
      "metadata": {
        "colab": {
          "base_uri": "https://localhost:8080/"
        },
        "id": "KhhMDXXevWrY",
        "outputId": "8b87fa76-abac-4a2d-dade-7e828437bcab"
      },
      "execution_count": null,
      "outputs": [
        {
          "output_type": "stream",
          "name": "stdout",
          "text": [
            "PegasosQSVC classification test score: 0.9300699300699301\n"
          ]
        }
      ]
    },
    {
      "cell_type": "code",
      "source": [
        "grid_step = 0.2\n",
        "\n",
        "margin = 0.2\n",
        "grid_x, grid_y = np.meshgrid( np.arange(-margin, np.pi + margin, grid_step), np.arange(-margin, np.pi + margin, grid_step) )"
      ],
      "metadata": {
        "id": "W68gp2qivmUo"
      },
      "execution_count": null,
      "outputs": []
    },
    {
      "cell_type": "code",
      "source": [
        "meshgrid_features = np.column_stack((grid_x.ravel(), grid_y.ravel()))\n",
        "meshgrid_colors = pegasos_qsvc.predict(meshgrid_features)"
      ],
      "metadata": {
        "id": "3E8uIDZdvrbV"
      },
      "execution_count": null,
      "outputs": []
    },
    {
      "cell_type": "code",
      "source": [
        "import matplotlib.pyplot as plt\n",
        "\n",
        "plt.figure(figsize=(5, 5))\n",
        "meshgrid_colors = meshgrid_colors.reshape(grid_y.shape)\n",
        "plt.pcolormesh(grid_x, grid_y, meshgrid_colors, cmap=\"RdBu\", shading=\"bilinear\")\n",
        "\n",
        "plt.scatter(\n",
        "    train_features[:, 0][train_labels == 0],\n",
        "    train_features[:, 1][train_labels == 0],\n",
        "    marker=\"s\",\n",
        "    facecolors=\"w\",\n",
        "    edgecolors=\"r\",\n",
        "    label=\"A train\",\n",
        ")\n",
        "plt.scatter(\n",
        "    train_features[:, 0][train_labels == 1],\n",
        "    train_features[:, 1][train_labels == 1],\n",
        "    marker=\"o\",\n",
        "    facecolors=\"w\",\n",
        "    edgecolors=\"b\",\n",
        "    label=\"B train\",\n",
        ")\n",
        "\n",
        "plt.scatter(\n",
        "    test_features[:, 0][test_labels == 0],\n",
        "    test_features[:, 1][test_labels == 0],\n",
        "    marker=\"s\",\n",
        "    facecolors=\"r\",\n",
        "    edgecolors=\"r\",\n",
        "    label=\"A test\",\n",
        ")\n",
        "plt.scatter(\n",
        "    test_features[:, 0][test_labels == 1],\n",
        "    test_features[:, 1][test_labels == 1],\n",
        "    marker=\"o\",\n",
        "    facecolors=\"b\",\n",
        "    edgecolors=\"b\",\n",
        "    label=\"B test\",\n",
        ")\n",
        "\n",
        "plt.legend(bbox_to_anchor=(1.05, 1), loc=\"upper left\", borderaxespad=0.0)\n",
        "plt.title(\"Pegasos Classification\")\n",
        "plt.show()"
      ],
      "metadata": {
        "colab": {
          "base_uri": "https://localhost:8080/",
          "height": 336
        },
        "id": "MnDak5ZsvuL7",
        "outputId": "5de83f9a-6e1a-466f-bad9-b422611d1f74"
      },
      "execution_count": null,
      "outputs": [
        {
          "output_type": "display_data",
          "data": {
            "text/plain": [
              "<Figure size 360x360 with 1 Axes>"
            ],
            "image/png": "[encoded data removed]"
          },
          "metadata": {
            "needs_background": "light"
          }
        }
      ]
    },
    {
      "cell_type": "code",
      "source": [
        "import qiskit.tools.jupyter\n",
        "\n",
        "%qiskit_version_table\n",
        "%qiskit_copyright"
      ],
      "metadata": {
        "colab": {
          "base_uri": "https://localhost:8080/",
          "height": 567
        },
        "id": "usMBQ2Ljvyvd",
        "outputId": "29d4011f-8699-48dc-ed1b-ea0e9d7a07c3"
      },
      "execution_count": null,
      "outputs": [
        {
          "output_type": "display_data",
          "data": {
            "text/plain": [
              "<IPython.core.display.HTML object>"
            ],
            "text/html": [
              "<h3>Version Information</h3><table><tr><th>Qiskit Software</th><th>Version</th></tr><tr><td><code>qiskit-terra</code></td><td>0.22.4</td></tr><tr><td><code>qiskit-aer</code></td><td>0.11.2</td></tr><tr><td><code>qiskit-ibmq-provider</code></td><td>0.19.2</td></tr><tr><td><code>qiskit</code></td><td>0.39.5</td></tr><tr><td><code>qiskit-machine-learning</code></td><td>0.5.0</td></tr><tr><th>System information</th></tr><tr><td>Python version</td><td>3.8.10</td></tr><tr><td>Python compiler</td><td>GCC 9.4.0</td></tr><tr><td>Python build</td><td>default, Nov 14 2022 12:59:47</td></tr><tr><td>OS</td><td>Linux</td></tr><tr><td>CPUs</td><td>1</td></tr><tr><td>Memory (Gb)</td><td>12.681198120117188</td></tr><tr><td colspan='2'>Wed Jan 18 14:57:35 2023 UTC</td></tr></table>"
            ]
          },
          "metadata": {}
        },
        {
          "output_type": "display_data",
          "data": {
            "text/plain": [
              "<IPython.core.display.HTML object>"
            ],
            "text/html": [
              "<div style='width: 100%; background-color:#d5d9e0;padding-left: 10px; padding-bottom: 10px; padding-right: 10px; padding-top: 5px'><h3>This code is a part of Qiskit</h3><p>&copy; Copyright IBM 2017, 2023.</p><p>This code is licensed under the Apache License, Version 2.0. You may<br>obtain a copy of this license in the LICENSE.txt file in the root directory<br> of this source tree or at http://www.apache.org/licenses/LICENSE-2.0.<p>Any modifications or derivative works of this code must retain this<br>copyright notice, and modified files need to carry a notice indicating<br>that they have been altered from the originals.</p></div>"
            ]
          },
          "metadata": {}
        }
      ]
    },
    {
      "cell_type": "markdown",
      "source": [
        "#SECOND IMPLEMENTATION WITH SAME DATASETS USING **QuantumKernelTrainer**"
      ],
      "metadata": {
        "id": "ZGtfSNM65Tqj"
      }
    },
    {
      "cell_type": "code",
      "source": [
        "# External imports\n",
        "from pylab import cm\n",
        "import pandas as pd\n",
        "from sklearn import metrics\n",
        "import numpy as np\n",
        "import matplotlib.pyplot as plt\n",
        "\n",
        "%matplotlib inline\n",
        "\n",
        "# Qiskit imports\n",
        "from qiskit import QuantumCircuit\n",
        "from qiskit.circuit import ParameterVector\n",
        "from qiskit.providers.aer import AerSimulator\n",
        "from qiskit.visualization import circuit_drawer\n",
        "from qiskit.algorithms.optimizers import SPSA\n",
        "from qiskit.circuit.library import ZZFeatureMap\n",
        "from qiskit_machine_learning.kernels import QuantumKernel\n",
        "from qiskit_machine_learning.kernels.algorithms import QuantumKernelTrainer\n",
        "from qiskit_machine_learning.algorithms import QSVC\n",
        "from qiskit_machine_learning.datasets import ad_hoc_data\n",
        "\n",
        "\n",
        "class QKTCallback:\n",
        "    \"\"\"Callback wrapper class.\"\"\"\n",
        "\n",
        "    def __init__(self) -> None:\n",
        "        self._data = [[] for i in range(5)]\n",
        "\n",
        "    def callback(self, x0, x1=None, x2=None, x3=None, x4=None):\n",
        "        \"\"\"\n",
        "        Args:\n",
        "            x0: number of function evaluations\n",
        "            x1: the parameters\n",
        "            x2: the function value\n",
        "            x3: the stepsize\n",
        "            x4: whether the step was accepted\n",
        "        \"\"\"\n",
        "        self._data[0].append(x0)\n",
        "        self._data[1].append(x1)\n",
        "        self._data[2].append(x2)\n",
        "        self._data[3].append(x3)\n",
        "        self._data[4].append(x4)\n",
        "\n",
        "    def get_callback_data(self):\n",
        "        return self._data\n",
        "\n",
        "    def clear_callback_data(self):\n",
        "        self._data = [[] for i in range(5)]"
      ],
      "metadata": {
        "id": "fjzYBflwRHSK"
      },
      "execution_count": null,
      "outputs": []
    },
    {
      "cell_type": "code",
      "source": [
        "adhoc_dimension = 2\n",
        "\n",
        "\n",
        "X_train, y_train, X_test, y_test, adhoc_total = train_features, test_features, train_labels, test_labels , cancer['data']\n",
        "\n",
        "print(X_train[np.where(y_train[:] == 0), 0])\n",
        "print(X_train[np.where(y_train[:] == 0), 1])\n",
        "\n",
        "\n",
        "plt.figure(figsize=(5, 5))\n",
        "plt.ylim(0, 2 * np.pi)\n",
        "plt.xlim(0, 2 * np.pi)\n",
        "plt.imshow(\n",
        "    np.asmatrix(adhoc_total).T,\n",
        "    interpolation=\"nearest\",\n",
        "    origin=\"lower\",\n",
        "    cmap=\"RdBu\",\n",
        "    extent=[0, 2 * np.pi, 0, 2 * np.pi],\n",
        ")\n",
        "\n",
        "plt.scatter(\n",
        "    X_train[np.where(y_train[:] == 0), 0],\n",
        "    X_train[np.where(y_train[:] == 0), 1],\n",
        "    marker=\"s\",\n",
        "    facecolors=\"w\",\n",
        "    edgecolors=\"b\",\n",
        "    label=\"A train\",\n",
        ")\n",
        "plt.scatter(\n",
        "    X_train[np.where(y_train[:] == 1), 0],\n",
        "    X_train[np.where(y_train[:] == 1), 1],\n",
        "    marker=\"o\",\n",
        "    facecolors=\"w\",\n",
        "    edgecolors=\"r\",\n",
        "    label=\"B train\",\n",
        ")\n",
        "plt.scatter(\n",
        "    X_test[np.where(y_test[:] == 0), 0],\n",
        "    X_test[np.where(y_test[:] == 0), 1],\n",
        "    marker=\"s\",\n",
        "    facecolors=\"b\",\n",
        "    edgecolors=\"w\",\n",
        "    label=\"A test\",\n",
        ")\n",
        "plt.scatter(\n",
        "    X_test[np.where(y_test[:] == 1), 0],\n",
        "    X_test[np.where(y_test[:] == 1), 1],\n",
        "    marker=\"o\",\n",
        "    facecolors=\"r\",\n",
        "    edgecolors=\"w\",\n",
        "    label=\"B test\",\n",
        ")\n",
        "\n",
        "plt.legend(bbox_to_anchor=(1.05, 1), loc=\"upper left\", borderaxespad=0.0)\n",
        "plt.title(\"Ad hoc dataset for classification\")\n",
        "\n",
        "plt.show()"
      ],
      "metadata": {
        "colab": {
          "base_uri": "https://localhost:8080/",
          "height": 586
        },
        "id": "B4uxU16nRMpD",
        "outputId": "1f6c531e-0f4d-4f6d-b5e9-6fea93505d34"
      },
      "execution_count": null,
      "outputs": [
        {
          "output_type": "stream",
          "name": "stdout",
          "text": [
            "[]\n",
            "[]\n"
          ]
        },
        {
          "output_type": "error",
          "ename": "IndexError",
          "evalue": "ignored",
          "traceback": [
            "\u001b[0;31m---------------------------------------------------------------------------\u001b[0m",
            "\u001b[0;31mIndexError\u001b[0m                                Traceback (most recent call last)",
            "\u001b[0;32m<ipython-input-28-6976b438fa21>\u001b[0m in \u001b[0;36m<module>\u001b[0;34m\u001b[0m\n\u001b[1;32m     36\u001b[0m )\n\u001b[1;32m     37\u001b[0m plt.scatter(\n\u001b[0;32m---> 38\u001b[0;31m     \u001b[0mX_test\u001b[0m\u001b[0;34m[\u001b[0m\u001b[0mnp\u001b[0m\u001b[0;34m.\u001b[0m\u001b[0mwhere\u001b[0m\u001b[0;34m(\u001b[0m\u001b[0my_test\u001b[0m\u001b[0;34m[\u001b[0m\u001b[0;34m:\u001b[0m\u001b[0;34m]\u001b[0m \u001b[0;34m==\u001b[0m \u001b[0;36m0\u001b[0m\u001b[0;34m)\u001b[0m\u001b[0;34m,\u001b[0m \u001b[0;36m0\u001b[0m\u001b[0;34m]\u001b[0m\u001b[0;34m,\u001b[0m\u001b[0;34m\u001b[0m\u001b[0;34m\u001b[0m\u001b[0m\n\u001b[0m\u001b[1;32m     39\u001b[0m     \u001b[0mX_test\u001b[0m\u001b[0;34m[\u001b[0m\u001b[0mnp\u001b[0m\u001b[0;34m.\u001b[0m\u001b[0mwhere\u001b[0m\u001b[0;34m(\u001b[0m\u001b[0my_test\u001b[0m\u001b[0;34m[\u001b[0m\u001b[0;34m:\u001b[0m\u001b[0;34m]\u001b[0m \u001b[0;34m==\u001b[0m \u001b[0;36m0\u001b[0m\u001b[0;34m)\u001b[0m\u001b[0;34m,\u001b[0m \u001b[0;36m1\u001b[0m\u001b[0;34m]\u001b[0m\u001b[0;34m,\u001b[0m\u001b[0;34m\u001b[0m\u001b[0;34m\u001b[0m\u001b[0m\n\u001b[1;32m     40\u001b[0m     \u001b[0mmarker\u001b[0m\u001b[0;34m=\u001b[0m\u001b[0;34m\"s\"\u001b[0m\u001b[0;34m,\u001b[0m\u001b[0;34m\u001b[0m\u001b[0;34m\u001b[0m\u001b[0m\n",
            "\u001b[0;31mIndexError\u001b[0m: too many indices for array: array is 1-dimensional, but 2 were indexed"
          ]
        },
        {
          "output_type": "display_data",
          "data": {
            "text/plain": [
              "<Figure size 360x360 with 1 Axes>"
            ],
            "image/png": "[encoded data removed]"
          },
          "metadata": {
            "needs_background": "light"
          }
        }
      ]
    },
    {
      "cell_type": "code",
      "source": [
        "# Create a rotational layer to train. We will rotate each qubit the same amount.\n",
        "training_params = ParameterVector(\"θ\", 1)\n",
        "fm0 = QuantumCircuit(2)\n",
        "fm0.ry(training_params[0], 0)\n",
        "fm0.ry(training_params[0], 1)\n",
        "\n",
        "# Use ZZFeatureMap to represent input data\n",
        "fm1 = ZZFeatureMap(2)\n",
        "\n",
        "# Create the feature map, composed of our two circuits\n",
        "fm = fm0.compose(fm1)\n",
        "\n",
        "print(circuit_drawer(fm))\n",
        "print(f\"Trainable parameters: {training_params}\")# Create a rotational layer to train. We will rotate each qubit the same amount.\n",
        "training_params = ParameterVector(\"θ\", 1)\n",
        "fm0 = QuantumCircuit(2)\n",
        "fm0.ry(training_params[0], 0)\n",
        "fm0.ry(training_params[0], 1)\n",
        "\n",
        "# Use ZZFeatureMap to represent input data\n",
        "fm1 = ZZFeatureMap(2)\n",
        "\n",
        "# Create the feature map, composed of our two circuits\n",
        "fm = fm0.compose(fm1)\n",
        "\n",
        "print(circuit_drawer(fm))\n",
        "print(f\"Trainable parameters: {training_params}\")"
      ],
      "metadata": {
        "id": "wbfjLyM9kxPw"
      },
      "execution_count": null,
      "outputs": []
    },
    {
      "cell_type": "code",
      "source": [
        "# Instantiate quantum kernel\n",
        "quant_kernel = TrainableFidelityQuantumKernel(feature_map=fm, training_parameters=training_params)\n",
        "\n",
        "# Set up the optimizer\n",
        "cb_qkt = QKTCallback()\n",
        "spsa_opt = SPSA(maxiter=10, callback=cb_qkt.callback, learning_rate=0.05, perturbation=0.05)\n",
        "\n",
        "# Instantiate a quantum kernel trainer.\n",
        "qkt = QuantumKernelTrainer(\n",
        "    quantum_kernel=quant_kernel, loss=\"svc_loss\", optimizer=spsa_opt, initial_point=[np.pi / 2]\n",
        ")"
      ],
      "metadata": {
        "id": "5uw7ri1RDe_b"
      },
      "execution_count": null,
      "outputs": []
    },
    {
      "cell_type": "code",
      "source": [
        "# Train the kernel using QKT directly\n",
        "qka_results = qkt.fit(X_train, y_train)\n",
        "optimized_kernel = qka_results.quantum_kernel\n",
        "print(qka_results)"
      ],
      "metadata": {
        "id": "9b5GUJdkDwP4"
      },
      "execution_count": null,
      "outputs": []
    },
    {
      "cell_type": "code",
      "source": [
        "# Use QSVC for classification\n",
        "qsvc = QSVC(quantum_kernel=optimized_kernel)\n",
        "\n",
        "# Fit the QSVC\n",
        "qsvc.fit(X_train, y_train)\n",
        "\n",
        "# Predict the labels\n",
        "labels_test = qsvc.predict(X_test)\n",
        "\n",
        "# Evalaute the test accuracy\n",
        "accuracy_test = metrics.balanced_accuracy_score(y_true=y_test, y_pred=labels_test)\n",
        "print(f\"accuracy test: {accuracy_test}\")"
      ],
      "metadata": {
        "id": "t9AH3ptgD3dC"
      },
      "execution_count": null,
      "outputs": []
    },
    {
      "cell_type": "markdown",
      "source": [
        "#RUNNING IN REAL QUANTUM COMPUTER"
      ],
      "metadata": {
        "id": "8_j-Q7LKAZ1_"
      }
    },
    {
      "cell_type": "code",
      "source": [
        "from qiskit import IBMQ\n",
        "\n",
        "IBMQ.save_account(\"7f7810855b472240e1e33d3caab8a942c7c5d868f4a15e1330a69e3447ff60b1e17207ef3ba66f4f6a6cd10a302f12c411951b0773ced76f951cd21049b653ce\")"
      ],
      "metadata": {
        "id": "eU92xbdLN3cF"
      },
      "execution_count": null,
      "outputs": []
    },
    {
      "cell_type": "code",
      "source": [
        "IBMQ.load_account()"
      ],
      "metadata": {
        "id": "mf-RDSl0Qrak"
      },
      "execution_count": null,
      "outputs": []
    },
    {
      "cell_type": "code",
      "source": [
        "##get the back end\n",
        "for backend in provider.backends():\n",
        "  try:\n",
        "    qubit_count = len(backend.properties().qubits)\n",
        "  except:\n",
        "    qubit_count = \"Simulated\"\n",
        "  print(f\"{backend.name()} has {backend.status().pending_jobs} queued and {qubit_count} qubits \")\n"
      ],
      "metadata": {
        "id": "ai1_k5eQRaaH"
      },
      "execution_count": null,
      "outputs": []
    },
    {
      "cell_type": "code",
      "source": [
        "provider = IBMQ.get_provider('ibm-q')"
      ],
      "metadata": {
        "id": "7gGxpriDRJrg"
      },
      "execution_count": null,
      "outputs": []
    }
  ]
}